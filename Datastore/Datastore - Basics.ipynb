{
 "cells": [
  {
   "cell_type": "code",
   "execution_count": 1,
   "metadata": {
    "collapsed": true,
    "deletable": true,
    "editable": true
   },
   "outputs": [],
   "source": [
    "project_id = 'cp100-183410'\n",
    "namespace = 'myAnimeList'\n",
    "kind = 'anime'"
   ]
  },
  {
   "cell_type": "markdown",
   "metadata": {
    "deletable": true,
    "editable": true
   },
   "source": [
    "# Datastore Client API"
   ]
  },
  {
   "cell_type": "markdown",
   "metadata": {
    "deletable": true,
    "editable": true
   },
   "source": [
    "### Read json"
   ]
  },
  {
   "cell_type": "code",
   "execution_count": 2,
   "metadata": {
    "collapsed": false,
    "deletable": true,
    "editable": true
   },
   "outputs": [],
   "source": [
    "import json\n",
    "anime_json = json.load(open('anime.json','r'))"
   ]
  },
  {
   "cell_type": "code",
   "execution_count": 18,
   "metadata": {
    "collapsed": false,
    "deletable": true,
    "editable": true
   },
   "outputs": [
    {
     "data": {
      "text/plain": [
       "{'user_completed': '87',\n",
       " 'user_days_spent_watching': '36.19',\n",
       " 'user_dropped': '14',\n",
       " 'user_id': '1320541',\n",
       " 'user_name': 'neurotichl',\n",
       " 'user_onhold': '6',\n",
       " 'user_plantowatch': '10',\n",
       " 'user_watching': '3'}"
      ]
     },
     "execution_count": 18,
     "metadata": {},
     "output_type": "execute_result"
    }
   ],
   "source": [
    "anime_json['myanimelist']['myinfo']"
   ]
  },
  {
   "cell_type": "code",
   "execution_count": 9,
   "metadata": {
    "collapsed": false,
    "deletable": true,
    "editable": true
   },
   "outputs": [
    {
     "data": {
      "text/plain": [
       "{'my_finish_date': '0000-00-00',\n",
       " 'my_id': '0',\n",
       " 'my_last_updated': '1338183572',\n",
       " 'my_rewatching': '0',\n",
       " 'my_rewatching_ep': '0',\n",
       " 'my_score': '5',\n",
       " 'my_start_date': '0000-00-00',\n",
       " 'my_status': '4',\n",
       " 'my_tags': None,\n",
       " 'my_watched_episodes': '156',\n",
       " 'series_animedb_id': '20',\n",
       " 'series_end': '2007-02-08',\n",
       " 'series_episodes': '220',\n",
       " 'series_image': 'https://myanimelist.cdn-dena.com/images/anime/13/17405.jpg',\n",
       " 'series_start': '2002-10-03',\n",
       " 'series_status': '2',\n",
       " 'series_synonyms': 'NARUTO; Naruto',\n",
       " 'series_title': 'Naruto',\n",
       " 'series_type': '1'}"
      ]
     },
     "execution_count": 9,
     "metadata": {},
     "output_type": "execute_result"
    }
   ],
   "source": [
    "anime_sample = anime_json['myanimelist']['anime'][0]\n",
    "anime_sample"
   ]
  },
  {
   "cell_type": "markdown",
   "metadata": {
    "deletable": true,
    "editable": true
   },
   "source": [
    "---"
   ]
  },
  {
   "cell_type": "markdown",
   "metadata": {
    "deletable": true,
    "editable": true
   },
   "source": [
    "### Import datastore client library\n",
    "https://cloud.google.com/datastore/docs/datastore-api-tutorial"
   ]
  },
  {
   "cell_type": "code",
   "execution_count": 3,
   "metadata": {
    "collapsed": true,
    "deletable": true,
    "editable": true
   },
   "outputs": [],
   "source": [
    "from google.cloud import datastore"
   ]
  },
  {
   "cell_type": "markdown",
   "metadata": {
    "deletable": true,
    "editable": true
   },
   "source": [
    "- Define datastore client"
   ]
  },
  {
   "cell_type": "code",
   "execution_count": 4,
   "metadata": {
    "collapsed": false,
    "deletable": true,
    "editable": true
   },
   "outputs": [],
   "source": [
    "ds = datastore.Client(project_id, namespace = namespace)"
   ]
  },
  {
   "cell_type": "markdown",
   "metadata": {
    "deletable": true,
    "editable": true
   },
   "source": [
    "- Upload data into datastore"
   ]
  },
  {
   "cell_type": "markdown",
   "metadata": {
    "deletable": true,
    "editable": true
   },
   "source": [
    "(1) Create a key"
   ]
  },
  {
   "cell_type": "code",
   "execution_count": 5,
   "metadata": {
    "collapsed": false,
    "deletable": true,
    "editable": true
   },
   "outputs": [],
   "source": [
    "key = ds.key(kind)"
   ]
  },
  {
   "cell_type": "markdown",
   "metadata": {
    "deletable": true,
    "editable": true
   },
   "source": [
    " (2) Create an entity"
   ]
  },
  {
   "cell_type": "code",
   "execution_count": 6,
   "metadata": {
    "collapsed": true,
    "deletable": true,
    "editable": true
   },
   "outputs": [],
   "source": [
    "entity = datastore.Entity(key=key)"
   ]
  },
  {
   "cell_type": "markdown",
   "metadata": {
    "deletable": true,
    "editable": true
   },
   "source": [
    "(3) Fill entity with values"
   ]
  },
  {
   "cell_type": "code",
   "execution_count": 10,
   "metadata": {
    "collapsed": false,
    "deletable": true,
    "editable": true
   },
   "outputs": [],
   "source": [
    "entity.update(anime_sample)"
   ]
  },
  {
   "cell_type": "markdown",
   "metadata": {
    "deletable": true,
    "editable": true
   },
   "source": [
    "(4) Upload to datastore using client"
   ]
  },
  {
   "cell_type": "code",
   "execution_count": 12,
   "metadata": {
    "collapsed": true,
    "deletable": true,
    "editable": true
   },
   "outputs": [],
   "source": [
    "ds.put(entity)"
   ]
  },
  {
   "cell_type": "markdown",
   "metadata": {},
   "source": [
    "![Datastore](https://github.com/neurotichl/GCP/raw/master/img/datastore_preview2.png)"
   ]
  },
  {
   "cell_type": "markdown",
   "metadata": {
    "deletable": true,
    "editable": true
   },
   "source": [
    "- Get data from datastore"
   ]
  },
  {
   "cell_type": "code",
   "execution_count": 15,
   "metadata": {
    "collapsed": false,
    "deletable": true,
    "editable": true
   },
   "outputs": [
    {
     "data": {
      "text/plain": [
       "[<Entity('anime', 5749328048029696) {'my_score': '5', 'my_last_updated': '1338183572', 'my_start_date': '0000-00-00', 'my_status': '4', 'my_rewatching_ep': '0', 'series_synonyms': 'NARUTO; Naruto', 'series_type': '1', 'my_finish_date': '0000-00-00', 'series_status': '2', 'my_rewatching': '0', 'series_episodes': '220', 'my_tags': None, 'series_image': 'https://myanimelist.cdn-dena.com/images/anime/13/17405.jpg', 'my_id': '0', 'series_end': '2007-02-08', 'series_start': '2002-10-03', 'series_animedb_id': '20', 'my_watched_episodes': '156', 'series_title': 'Naruto'}>]"
      ]
     },
     "execution_count": 15,
     "metadata": {},
     "output_type": "execute_result"
    }
   ],
   "source": [
    "query = ds.query(kind=kind)\n",
    "list(query.fetch(1))"
   ]
  },
  {
   "cell_type": "code",
   "execution_count": 16,
   "metadata": {
    "collapsed": false,
    "deletable": true,
    "editable": true
   },
   "outputs": [
    {
     "name": "stdout",
     "output_type": "stream",
     "text": [
      "key:  <Key('anime', 5749328048029696), project=cp100-183410>\n",
      "\n",
      "values:  dict_items([('my_score', '5'), ('my_last_updated', '1338183572'), ('my_start_date', '0000-00-00'), ('my_rewatching', '0'), ('my_rewatching_ep', '0'), ('my_watched_episodes', '156'), ('series_type', '1'), ('my_finish_date', '0000-00-00'), ('series_status', '2'), ('my_status', '4'), ('series_episodes', '220'), ('my_tags', None), ('series_image', 'https://myanimelist.cdn-dena.com/images/anime/13/17405.jpg'), ('my_id', '0'), ('series_end', '2007-02-08'), ('series_start', '2002-10-03'), ('series_animedb_id', '20'), ('series_synonyms', 'NARUTO; Naruto'), ('series_title', 'Naruto')])\n"
     ]
    }
   ],
   "source": [
    "entity_value = list(query.fetch(1))[0]\n",
    "print('key: ',entity_value.key, end='\\n\\n')\n",
    "print('values: ',entity_value.items())"
   ]
  },
  {
   "cell_type": "markdown",
   "metadata": {
    "deletable": true,
    "editable": true
   },
   "source": [
    "- Update an entity"
   ]
  },
  {
   "cell_type": "code",
   "execution_count": 17,
   "metadata": {
    "collapsed": false,
    "deletable": true,
    "editable": true
   },
   "outputs": [],
   "source": [
    "key = ds.key(kind, entity_value.key.id) # Put the entity unique key value in client's key\n",
    "entity = datastore.Entity(key=key)\n",
    "entity.update({k:v if k != 'my_score' else '6.5' for k,v in anime_sample.items()})\n",
    "ds.put(entity)"
   ]
  },
  {
   "cell_type": "markdown",
   "metadata": {},
   "source": [
    "![Datastore](https://github.com/neurotichl/GCP/raw/master/img/datastore_preview3.png)"
   ]
  },
  {
   "cell_type": "markdown",
   "metadata": {
    "deletable": true,
    "editable": true
   },
   "source": [
    "- Delete an entity"
   ]
  },
  {
   "cell_type": "code",
   "execution_count": 18,
   "metadata": {
    "collapsed": true,
    "deletable": true,
    "editable": true
   },
   "outputs": [],
   "source": [
    "ds.delete(key)"
   ]
  },
  {
   "cell_type": "markdown",
   "metadata": {},
   "source": [
    "![Datastore](https://github.com/neurotichl/GCP/raw/master/img/datastore_preview4.png)"
   ]
  },
  {
   "cell_type": "markdown",
   "metadata": {
    "deletable": true,
    "editable": true
   },
   "source": [
    "---"
   ]
  },
  {
   "cell_type": "markdown",
   "metadata": {
    "deletable": true,
    "editable": true
   },
   "source": [
    "##### Add all json to datastore"
   ]
  },
  {
   "cell_type": "code",
   "execution_count": 19,
   "metadata": {
    "collapsed": false,
    "deletable": true,
    "editable": true
   },
   "outputs": [],
   "source": [
    "for data in anime_json['myanimelist']['anime']:\n",
    "  key = ds.key(kind)\n",
    "  entity = datastore.Entity(key=key)\n",
    "  entity.update(data)\n",
    "  ds.put(entity)"
   ]
  },
  {
   "cell_type": "markdown",
   "metadata": {
    "deletable": true,
    "editable": true
   },
   "source": [
    "- Query with filter"
   ]
  },
  {
   "cell_type": "code",
   "execution_count": 71,
   "metadata": {
    "collapsed": false,
    "deletable": true,
    "editable": true
   },
   "outputs": [
    {
     "data": {
      "text/plain": [
       "['Re:Zero kara Hajimeru Isekai Seikatsu',\n",
       " 'Cardcaptor Sakura',\n",
       " 'Mononoke',\n",
       " 'Fate/Zero',\n",
       " 'Fate/Zero 2nd Season',\n",
       " 'Shingeki no Kyojin',\n",
       " 'Tenkuu no Shiro Laputa',\n",
       " 'Lovely★Complex',\n",
       " 'Hunter x Hunter (2011)']"
      ]
     },
     "execution_count": 71,
     "metadata": {},
     "output_type": "execute_result"
    }
   ],
   "source": [
    "query = ds.query(kind=kind)\n",
    "query.add_filter('my_score', '=', '10') # Add Filter\n",
    "query_result = query.fetch()\n",
    "list([anime['series_title'] for anime in query_result])"
   ]
  },
  {
   "cell_type": "markdown",
   "metadata": {},
   "source": [
    "![Datastore](https://github.com/neurotichl/GCP/raw/master/img/datastore_preview5.png)"
   ]
  },
  {
   "cell_type": "code",
   "execution_count": null,
   "metadata": {
    "collapsed": true
   },
   "outputs": [],
   "source": []
  }
 ],
 "metadata": {
  "kernelspec": {
   "display_name": "Python 3",
   "language": "python",
   "name": "python3"
  },
  "language_info": {
   "codemirror_mode": {
    "name": "ipython",
    "version": 3
   },
   "file_extension": ".py",
   "mimetype": "text/x-python",
   "name": "python",
   "nbconvert_exporter": "python",
   "pygments_lexer": "ipython3",
   "version": "3.5.5"
  }
 },
 "nbformat": 4,
 "nbformat_minor": 2
}
