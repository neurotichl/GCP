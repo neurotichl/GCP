{
 "cells": [
  {
   "cell_type": "code",
   "execution_count": 33,
   "metadata": {
    "collapsed": true,
    "deletable": true,
    "editable": true
   },
   "outputs": [],
   "source": [
    "project_id = 'cp100-183410'\n",
    "dataset_id = 'TEST'\n",
    "table_id = 'testTable'"
   ]
  },
  {
   "cell_type": "markdown",
   "metadata": {
    "deletable": true,
    "editable": true
   },
   "source": [
    "### googleapiclient \n",
    "- https://developers.google.com/resources/api-libraries/documentation/bigquery/v2/python/latest/"
   ]
  },
  {
   "cell_type": "code",
   "execution_count": 34,
   "metadata": {
    "collapsed": true,
    "deletable": true,
    "editable": true
   },
   "outputs": [],
   "source": [
    "import googleapiclient.discovery\n",
    "\n",
    "bigQ_API = googleapiclient.discovery.build('bigquery','v2')"
   ]
  },
  {
   "cell_type": "markdown",
   "metadata": {
    "deletable": true,
    "editable": true
   },
   "source": [
    "#### Create Dataset in BigQuery\n",
    "- https://cloud.google.com/bigquery/docs/reference/rest/v2/datasets"
   ]
  },
  {
   "cell_type": "code",
   "execution_count": 35,
   "metadata": {
    "collapsed": false,
    "deletable": true,
    "editable": true
   },
   "outputs": [
    {
     "data": {
      "text/plain": [
       "{u'access': [{u'role': u'WRITER', u'specialGroup': u'projectWriters'},\n",
       "  {u'role': u'OWNER', u'specialGroup': u'projectOwners'},\n",
       "  {u'role': u'OWNER',\n",
       "   u'userByEmail': u'984711767335-compute@developer.gserviceaccount.com'},\n",
       "  {u'role': u'READER', u'specialGroup': u'projectReaders'}],\n",
       " u'creationTime': u'1519976578958',\n",
       " u'datasetReference': {u'datasetId': u'TEST', u'projectId': u'cp100-183410'},\n",
       " u'etag': u'\"OhENgf8ForUUnKbYWWdbr5aJHYs/MTUxOTk3NjU3ODk1OA\"',\n",
       " u'id': u'cp100-183410:TEST',\n",
       " u'kind': u'bigquery#dataset',\n",
       " u'lastModifiedTime': u'1519976578958',\n",
       " u'location': u'US',\n",
       " u'selfLink': u'https://www.googleapis.com/bigquery/v2/projects/cp100-183410/datasets/TEST'}"
      ]
     },
     "execution_count": 35,
     "metadata": {},
     "output_type": "execute_result"
    }
   ],
   "source": [
    "dataset = bigQ_API.datasets()\n",
    "dataset.insert(projectId = project_id,\n",
    "              body = {\"datasetReference\": {\n",
    "                                          \"projectId\": project_id,\n",
    "                                          \"datasetId\": dataset_id,\n",
    "                                        },}).execute()"
   ]
  },
  {
   "cell_type": "markdown",
   "metadata": {
    "deletable": true,
    "editable": true
   },
   "source": [
    "#### Create Table in BigQuery\n",
    "- https://cloud.google.com/bigquery/docs/reference/rest/v2/tables#resource\n",
    "- https://cloud.google.com/bigquery/docs/schemas (Schemas)"
   ]
  },
  {
   "cell_type": "code",
   "execution_count": 62,
   "metadata": {
    "collapsed": false,
    "deletable": true,
    "editable": true
   },
   "outputs": [
    {
     "data": {
      "text/plain": [
       "{u'creationTime': u'1519990452584',\n",
       " u'etag': u'\"OhENgf8ForUUnKbYWWdbr5aJHYs/MTUxOTk5MDQ1MjU4NA\"',\n",
       " u'id': u'cp100-183410:TEST.testTable',\n",
       " u'kind': u'bigquery#table',\n",
       " u'lastModifiedTime': u'1519990452584',\n",
       " u'numBytes': u'0',\n",
       " u'numLongTermBytes': u'0',\n",
       " u'numRows': u'0',\n",
       " u'schema': {u'fields': [{u'description': u'A column of date YYYY-[M]M-[D]D',\n",
       "    u'mode': u'NULLABLE',\n",
       "    u'name': u'dateCol',\n",
       "    u'type': u'DATE'},\n",
       "   {u'description': u'A column of dictionary',\n",
       "    u'fields': [{u'description': u'Integer index without null',\n",
       "      u'mode': u'REQUIRED',\n",
       "      u'name': u'index',\n",
       "      u'type': u'INTEGER'},\n",
       "     {u'description': u'Value corresponding to index value',\n",
       "      u'mode': u'NULLABLE',\n",
       "      u'name': u'value',\n",
       "      u'type': u'STRING'}],\n",
       "    u'mode': u'NULLABLE',\n",
       "    u'name': u'structCol',\n",
       "    u'type': u'RECORD'},\n",
       "   {u'description': u'A column of array with floats',\n",
       "    u'mode': u'REPEATED',\n",
       "    u'name': u'arrayCol',\n",
       "    u'type': u'FLOAT'},\n",
       "   {u'description': u'A column of dictionary',\n",
       "    u'fields': [{u'description': u'Datetime Column YYYY-[M]M-[D]D[( |T)[H]H:[M]M:[S]S[.DDDDDD]]',\n",
       "      u'mode': u'REQUIRED',\n",
       "      u'name': u'DatetimeCol',\n",
       "      u'type': u'DATETIME'},\n",
       "     {u'description': u'True or False',\n",
       "      u'mode': u'NULLABLE',\n",
       "      u'name': u'BooleanCol',\n",
       "      u'type': u'BOOLEAN'}],\n",
       "    u'mode': u'REPEATED',\n",
       "    u'name': u'repeatedStructCol',\n",
       "    u'type': u'RECORD'}]},\n",
       " u'selfLink': u'https://www.googleapis.com/bigquery/v2/projects/cp100-183410/datasets/TEST/tables/testTable',\n",
       " u'tableReference': {u'datasetId': u'TEST',\n",
       "  u'projectId': u'cp100-183410',\n",
       "  u'tableId': u'testTable'},\n",
       " u'type': u'TABLE'}"
      ]
     },
     "execution_count": 62,
     "metadata": {},
     "output_type": "execute_result"
    }
   ],
   "source": [
    "table = bigQ_API.tables()\n",
    "table.insert( projectId = project_id, \n",
    "              datasetId = dataset_id,\n",
    "              body = {\"kind\": \"bigquery#table\",\n",
    "                     \"tableReference\": { # Required\n",
    "                                        \"projectId\": project_id,\n",
    "                                        \"datasetId\": dataset_id,\n",
    "                                        \"tableId\": table_id,\n",
    "                                        },\n",
    "                       \"schema\": {\n",
    "                                  \"fields\": [  # Your Columns\n",
    "                                    {\n",
    "                                      \"name\": \"dateCol\", # Col 1\n",
    "                                      \"type\": \"DATE\",\n",
    "                                      \"mode\": \"NULLABLE\",\n",
    "                                      \"description\": \"A column of date YYYY-[M]M-[D]D\"\n",
    "                                    },\n",
    "                                    {\n",
    "                                      \"name\": \"structCol\", # Col 2\n",
    "                                      \"type\": \"STRUCT\",\n",
    "                                      \"mode\": \"NULLABLE\",\n",
    "                                      \"fields\": [\n",
    "                                          {\n",
    "                                            \"name\":\"index\",\n",
    "                                            \"type\":\"INTEGER\",\n",
    "                                            \"mode\":\"REQUIRED\",\n",
    "                                            \"description\":\"Integer index without null\"\n",
    "                                          },\n",
    "                                          {\n",
    "                                            \"name\":\"value\",\n",
    "                                            \"type\":\"STRING\",\n",
    "                                            \"mode\":\"NULLABLE\",\n",
    "                                            \"description\":\"Value corresponding to index value\"\n",
    "                                          }\n",
    "                                      ],\n",
    "                                      \"description\": \"A column of dictionary\"\n",
    "                                    },\n",
    "                                    {\n",
    "                                      \"name\": \"arrayCol\", # Col 3\n",
    "                                      \"type\": \"FLOAT64\",\n",
    "                                      \"mode\": \"REPEATED\",\n",
    "                                      \"description\": \"A column of array with floats\"\n",
    "                                    },\n",
    "                                    {\n",
    "                                      \"name\": \"repeatedStructCol\", # Col 4\n",
    "                                      \"type\": \"STRUCT\",\n",
    "                                      \"mode\": \"REPEATED\",\n",
    "                                      \"fields\": [\n",
    "                                          {\n",
    "                                            \"name\":\"DatetimeCol\",\n",
    "                                            \"type\":\"DATETIME\",\n",
    "                                            \"mode\":\"REQUIRED\",\n",
    "                                            \"description\":\"Datetime Column YYYY-[M]M-[D]D[( |T)[H]H:[M]M:[S]S[.DDDDDD]]\"\n",
    "                                          },\n",
    "                                          {\n",
    "                                            \"name\":\"BooleanCol\",\n",
    "                                            \"type\":\"BOOL\",\n",
    "                                            \"mode\":\"NULLABLE\",\n",
    "                                            \"description\":\"True or False\"\n",
    "                                          }\n",
    "                                      ],\n",
    "                                      \"description\": \"A column of dictionary\"\n",
    "                                    },\n",
    "                                  ]\n",
    "                              }\n",
    "                     }).execute()"
   ]
  },
  {
   "cell_type": "markdown",
   "metadata": {
    "deletable": true,
    "editable": true
   },
   "source": [
    "![Create Table](img/bigQ_preview1.png)"
   ]
  },
  {
   "cell_type": "markdown",
   "metadata": {
    "deletable": true,
    "editable": true
   },
   "source": [
    "### Insert rows into Bigquery table"
   ]
  },
  {
   "cell_type": "code",
   "execution_count": 63,
   "metadata": {
    "collapsed": false,
    "deletable": true,
    "editable": true
   },
   "outputs": [
    {
     "data": {
      "text/plain": [
       "{u'kind': u'bigquery#tableDataInsertAllResponse'}"
      ]
     },
     "execution_count": 63,
     "metadata": {},
     "output_type": "execute_result"
    }
   ],
   "source": [
    "## Note Data in buffer stream may not be available in Preview, Query the data with SELECT * FROM `your-dataset` to view \n",
    "insert = bigQ_API.tabledata()\n",
    "insert.insertAll(\n",
    "              projectId = project_id, \n",
    "              datasetId = dataset_id,\n",
    "              tableId = table_id,\n",
    "              body = {\n",
    "                  \"kind\": \"bigquery#tableDataInsertAllRequest\",\n",
    "                  \"rows\": [\n",
    "                    {\n",
    "                      \"json\": {\n",
    "                        \"dateCol\": \"2018-03-01\",\n",
    "                        \"structCol\": {\n",
    "                          \"index\": 1,\n",
    "                          \"value\": \"abc\"\n",
    "                        },\n",
    "                        \"arrayCol\": [\n",
    "                          2.2,\n",
    "                          4.4,\n",
    "                          6.6,\n",
    "                          8.8\n",
    "                        ],\n",
    "                        \"repeatedStructCol\": [\n",
    "                          {\n",
    "                            \"DatetimeCol\": \"2018-03-01 00:00:00.000000\",\n",
    "                            \"booleanCol\": \"True\"\n",
    "                          },\n",
    "                          {\n",
    "                            \"DatetimeCol\": \"2018-02-28 12:12:12.000000\",\n",
    "                            \"booleanCol\": \"False\"\n",
    "                          }\n",
    "                        ]\n",
    "                      }\n",
    "                    }\n",
    "                  ]\n",
    "                }).execute()"
   ]
  },
  {
   "cell_type": "markdown",
   "metadata": {
    "deletable": true,
    "editable": true
   },
   "source": [
    "![Insert Rows](img/bigQ_preview2.png)"
   ]
  },
  {
   "cell_type": "markdown",
   "metadata": {
    "deletable": true,
    "editable": true
   },
   "source": [
    "Note and Reference:\n",
    "- https://github.com/GoogleCloudPlatform/google-cloud-python/issues/2951"
   ]
  }
 ],
 "metadata": {
  "kernelspec": {
   "display_name": "Python 2",
   "language": "python",
   "name": "python2"
  },
  "language_info": {
   "codemirror_mode": {
    "name": "ipython",
    "version": 2
   },
   "file_extension": ".py",
   "mimetype": "text/x-python",
   "name": "python",
   "nbconvert_exporter": "python",
   "pygments_lexer": "ipython2",
   "version": "2.7.14"
  }
 },
 "nbformat": 4,
 "nbformat_minor": 2
}
